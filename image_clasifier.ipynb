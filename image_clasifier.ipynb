{
 "cells": [
  {
   "cell_type": "code",
   "execution_count": 4,
   "id": "36a2a68c-258b-4d23-8b0c-80582d504173",
   "metadata": {},
   "outputs": [],
   "source": [
    "import os\n",
    "import numpy as np\n",
    "from PIL import Image"
   ]
  },
  {
   "cell_type": "code",
   "execution_count": 27,
   "id": "5c29e046-0018-4c24-b81c-9cccc7b0144e",
   "metadata": {},
   "outputs": [],
   "source": [
    "#Parameters\n",
    "\n",
    "image_size = (64,64)\n",
    "data_directory = \"Images\"\n",
    "\n",
    "def loading_images(data_directory, image_size):\n",
    "    X = []\n",
    "    y = []\n",
    "    # Label each folder as either 0 or 1\n",
    "    labels = os.listdir(data_directory)\n",
    "    label_dict = {label: i for i, label in enumerate(labels)}\n",
    "    \n",
    "    \n",
    "    for label in labels:\n",
    "        folder_1 = os.path.join(data_directory, label)\n",
    "        data_dire = os.listdir(folder_1)\n",
    "\n",
    "        #folder_2 = \"\"\n",
    "        for d in data_dire:\n",
    "            \n",
    "            if d==\"train\":\n",
    "                folder_2 = os.path.join(folder_1,d)\n",
    "                Files = os.listdir(folder_2)\n",
    "                \n",
    "                \n",
    "                for filename in Files:\n",
    "                    if filename.endswith(\"jpg\"):\n",
    "                        image_path = os.path.join(folder_2, filename)\n",
    "                        img = Image.open(image_path).convert(\"RGB\")\n",
    "                        img_resized = img.resize(image_size)\n",
    "                        X_array = np.array(img_resized)\n",
    "                        X.append(X_array.flatten())\n",
    "                        y.append(label_dict[label])\n",
    "    return X, y\n",
    "    "
   ]
  },
  {
   "cell_type": "code",
   "execution_count": 28,
   "id": "a54c08c5-6df4-409d-9233-703c102ef18f",
   "metadata": {},
   "outputs": [
    {
     "data": {
      "text/plain": [
       "([array([255, 255, 255, ..., 246, 239, 221], dtype=uint8),\n",
       "  array([ 59,  49,  39, ..., 104,  79,  58], dtype=uint8),\n",
       "  array([ 39,  83, 138, ..., 128, 225,  90], dtype=uint8),\n",
       "  array([239, 238, 219, ...,  69,  43,  30], dtype=uint8),\n",
       "  array([190, 198, 200, ..., 216, 224, 226], dtype=uint8),\n",
       "  array([187, 194, 201, ..., 206, 212, 217], dtype=uint8),\n",
       "  array([40, 35, 29, ..., 39, 35, 32], dtype=uint8),\n",
       "  array([159, 169, 181, ..., 168, 132, 105], dtype=uint8),\n",
       "  array([ 36,  37,  42, ..., 109, 102,  88], dtype=uint8),\n",
       "  array([255, 255, 255, ..., 255, 255, 255], dtype=uint8),\n",
       "  array([198, 154, 117, ..., 162, 138, 120], dtype=uint8),\n",
       "  array([188, 190, 189, ..., 180, 182, 181], dtype=uint8),\n",
       "  array([191, 193, 205, ..., 173, 180, 189], dtype=uint8),\n",
       "  array([216, 214, 225, ..., 188, 146, 161], dtype=uint8),\n",
       "  array([95, 94, 50, ..., 73, 57, 39], dtype=uint8),\n",
       "  array([20, 20, 20, ..., 63, 62, 53], dtype=uint8),\n",
       "  array([165, 203, 241, ..., 170, 177, 189], dtype=uint8),\n",
       "  array([210, 218, 221, ..., 231, 239, 242], dtype=uint8),\n",
       "  array([ 29,  19,  20, ..., 128, 121, 119], dtype=uint8),\n",
       "  array([ 71,  75,  58, ..., 109,  99, 101], dtype=uint8)],\n",
       " [0, 0, 0, 0, 0, 0, 0, 0, 0, 0, 1, 1, 1, 1, 1, 1, 1, 1, 1, 1])"
      ]
     },
     "execution_count": 28,
     "metadata": {},
     "output_type": "execute_result"
    }
   ],
   "source": [
    "loading_images(\"../Images\", (64,64))"
   ]
  },
  {
   "cell_type": "code",
   "execution_count": null,
   "id": "bd057ea9-03a1-4428-bfab-73675e08684f",
   "metadata": {},
   "outputs": [],
   "source": []
  }
 ],
 "metadata": {
  "kernelspec": {
   "display_name": "Python 3 (ipykernel)",
   "language": "python",
   "name": "python3"
  },
  "language_info": {
   "codemirror_mode": {
    "name": "ipython",
    "version": 3
   },
   "file_extension": ".py",
   "mimetype": "text/x-python",
   "name": "python",
   "nbconvert_exporter": "python",
   "pygments_lexer": "ipython3",
   "version": "3.11.7"
  }
 },
 "nbformat": 4,
 "nbformat_minor": 5
}
