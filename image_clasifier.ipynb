{
 "cells": [
  {
   "cell_type": "code",
   "execution_count": 5,
   "id": "5c29e046-0018-4c24-b81c-9cccc7b0144e",
   "metadata": {},
   "outputs": [],
   "source": [
    "import os\n",
    "import numpy as np\n",
    "from PIL import Image\n",
    "\n",
    "# Parameters\n",
    "\n",
    "image_size = (64,64) # Resizes all the loaded images into a size of 64X64 pixels \n",
    "data_directory = \"Images\" # Specifies the root directory containing the image sub-folders (ie. \"Dogs\" and \"Cats\")\n",
    "\n",
    "def loading_images(data_directory, image_size):\n",
    "\n",
    "    \"\"\"\n",
    "    Loads images from the specified directory, resizes them, flattens them into vectors,\n",
    "    and assigns labels based on folder names.\n",
    "\n",
    "    Assumes each class has a subfolder with 'train' images.\n",
    "\n",
    "    Arguments:\n",
    "    data_directory -- string, path to the root directory containing class folders\n",
    "    image_size -- tuple(int, int), size to which each image will be resized (width, height)\n",
    "\n",
    "    Returns:\n",
    "    X -- list of numpy arrays, each array is a flattened image vector\n",
    "    y -- list of integers, labels corresponding to each image\n",
    "    \"\"\"\n",
    "    X = [] # Empty list for storing flattened image vectors \n",
    "    y = [] # Empty list for storing interger labels (0 and 1)\n",
    "    \n",
    "    # Get class labels from folder names and map to integers\n",
    "    \n",
    "    labels = os.listdir(data_directory) # lists all the sub-folders of the specified root directory, that contain the images\n",
    "    label_dict = {label: i for i, label in enumerate(labels)}\n",
    "    \n",
    "    # Loop through each class folder \n",
    "    for label in labels:\n",
    "        folder_1 = os.path.join(data_directory, label) # Specifying the path to each class (eg: 'Images/Dogs')\n",
    "        data_dire = os.listdir(folder_1) # Lists all the sub-folders inside each class (eg: ['train', 'test'])\n",
    "\n",
    "        # Loop through the class sub-folders (eg: through ['train', 'test'])\n",
    "        for d in data_dire:\n",
    "            \n",
    "            # Only process the 'train' subfolder\n",
    "            if d==\"train\":\n",
    "                folder_2 = os.path.join(folder_1,d)\n",
    "                Files = os.listdir(folder_2) # Lists everything inside 'train' (eg: inside 'Images/Dogs/train')\n",
    "                \n",
    "                # Loop through each image files\n",
    "                for filename in Files:\n",
    "                    if filename.endswith(\"jpg\"):\n",
    "                        image_path = os.path.join(folder_2, filename)\n",
    "                        \n",
    "                        # Open image and convert to RGB\n",
    "                        img = Image.open(image_path).convert(\"RGB\")\n",
    "\n",
    "                        # Resizes the loaded image into the size specified above (64x64 pixels)\n",
    "                        img_resized = img.resize(image_size)\n",
    "                        # Creates a numpy array from the resized image\n",
    "                        X_array = np.array(img_resized)\n",
    "                        # Flattens the array into a vector and appends it into X\n",
    "                        X.append(X_array.flatten())\n",
    "                        # Appends each class label into a list \"y\"\n",
    "                        y.append(label_dict[label])\n",
    "\n",
    "    # Converts X into an array and normalizes all pixel values to [0,1]\n",
    "    X_norm = (np.array(X))/255.0\n",
    "    # Converts y list labels into an array\n",
    "    y_array = np.array(y)\n",
    "    \n",
    "    return X_norm, y_array\n",
    "    "
   ]
  },
  {
   "cell_type": "code",
   "execution_count": 4,
   "id": "bd057ea9-03a1-4428-bfab-73675e08684f",
   "metadata": {},
   "outputs": [
    {
     "data": {
      "text/plain": [
       "([array([255, 255, 255, ..., 246, 239, 221], dtype=uint8),\n",
       "  array([ 59,  49,  39, ..., 104,  79,  58], dtype=uint8),\n",
       "  array([ 39,  83, 138, ..., 128, 225,  90], dtype=uint8),\n",
       "  array([239, 238, 219, ...,  69,  43,  30], dtype=uint8),\n",
       "  array([190, 198, 200, ..., 216, 224, 226], dtype=uint8),\n",
       "  array([187, 194, 201, ..., 206, 212, 217], dtype=uint8),\n",
       "  array([40, 35, 29, ..., 39, 35, 32], dtype=uint8),\n",
       "  array([159, 169, 181, ..., 168, 132, 105], dtype=uint8),\n",
       "  array([ 36,  37,  42, ..., 109, 102,  88], dtype=uint8),\n",
       "  array([255, 255, 255, ..., 255, 255, 255], dtype=uint8),\n",
       "  array([198, 154, 117, ..., 162, 138, 120], dtype=uint8),\n",
       "  array([188, 190, 189, ..., 180, 182, 181], dtype=uint8),\n",
       "  array([191, 193, 205, ..., 173, 180, 189], dtype=uint8),\n",
       "  array([216, 214, 225, ..., 188, 146, 161], dtype=uint8),\n",
       "  array([95, 94, 50, ..., 73, 57, 39], dtype=uint8),\n",
       "  array([20, 20, 20, ..., 63, 62, 53], dtype=uint8),\n",
       "  array([165, 203, 241, ..., 170, 177, 189], dtype=uint8),\n",
       "  array([210, 218, 221, ..., 231, 239, 242], dtype=uint8),\n",
       "  array([ 29,  19,  20, ..., 128, 121, 119], dtype=uint8),\n",
       "  array([ 71,  75,  58, ..., 109,  99, 101], dtype=uint8)],\n",
       " [0, 0, 0, 0, 0, 0, 0, 0, 0, 0, 1, 1, 1, 1, 1, 1, 1, 1, 1, 1])"
      ]
     },
     "execution_count": 4,
     "metadata": {},
     "output_type": "execute_result"
    }
   ],
   "source": [
    "loading_images(\"../Images\", (64,64))"
   ]
  },
  {
   "cell_type": "code",
   "execution_count": 6,
   "id": "c76034cd-eed5-416d-9307-ec0601959e59",
   "metadata": {},
   "outputs": [
    {
     "data": {
      "text/plain": [
       "(array([[1.        , 1.        , 1.        , ..., 0.96470588, 0.9372549 ,\n",
       "         0.86666667],\n",
       "        [0.23137255, 0.19215686, 0.15294118, ..., 0.40784314, 0.30980392,\n",
       "         0.22745098],\n",
       "        [0.15294118, 0.3254902 , 0.54117647, ..., 0.50196078, 0.88235294,\n",
       "         0.35294118],\n",
       "        ...,\n",
       "        [0.82352941, 0.85490196, 0.86666667, ..., 0.90588235, 0.9372549 ,\n",
       "         0.94901961],\n",
       "        [0.11372549, 0.0745098 , 0.07843137, ..., 0.50196078, 0.4745098 ,\n",
       "         0.46666667],\n",
       "        [0.27843137, 0.29411765, 0.22745098, ..., 0.42745098, 0.38823529,\n",
       "         0.39607843]]),\n",
       " array([0, 0, 0, 0, 0, 0, 0, 0, 0, 0, 1, 1, 1, 1, 1, 1, 1, 1, 1, 1]))"
      ]
     },
     "execution_count": 6,
     "metadata": {},
     "output_type": "execute_result"
    }
   ],
   "source": [
    "loading_images(\"../Images\", (64,64))"
   ]
  },
  {
   "cell_type": "code",
   "execution_count": null,
   "id": "75ff84bc-8a66-497d-bc38-f1cbb7a47901",
   "metadata": {},
   "outputs": [],
   "source": []
  }
 ],
 "metadata": {
  "kernelspec": {
   "display_name": "Python 3 (ipykernel)",
   "language": "python",
   "name": "python3"
  },
  "language_info": {
   "codemirror_mode": {
    "name": "ipython",
    "version": 3
   },
   "file_extension": ".py",
   "mimetype": "text/x-python",
   "name": "python",
   "nbconvert_exporter": "python",
   "pygments_lexer": "ipython3",
   "version": "3.11.7"
  }
 },
 "nbformat": 4,
 "nbformat_minor": 5
}
