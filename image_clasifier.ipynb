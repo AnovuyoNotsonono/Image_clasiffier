{
 "cells": [
  {
   "cell_type": "code",
   "execution_count": 56,
   "id": "5c29e046-0018-4c24-b81c-9cccc7b0144e",
   "metadata": {},
   "outputs": [],
   "source": [
    "import os\n",
    "import numpy as np\n",
    "from PIL import Image\n",
    "\n",
    "# Parameters\n",
    "\n",
    "image_size = (64,64) # Resizes all the loaded images into a size of 64X64 pixels \n",
    "data_directory = \"Images\" # Specifies the root directory containing the image sub-folders (ie. \"Dogs\" and \"Cats\")\n",
    "\n",
    "def loading_images(data_directory,mode, image_size):\n",
    "\n",
    "    \"\"\"\n",
    "    Loads images from the specified directory, resizes them, flattens them into vectors,\n",
    "    and assigns labels based on folder names.\n",
    "\n",
    "    Assumes each class has a subfolder with 'train' images.\n",
    "\n",
    "    Arguments:\n",
    "    data_directory -- string, path to the root directory containing class folders\n",
    "    mode -- string, either 'train' or 'test' to specify which subfolder to load\n",
    "    image_size -- tuple(int, int), size to which each image will be resized (width, height)\n",
    "\n",
    "    Returns:\n",
    "    X -- list of numpy arrays, each array is a flattened image vector\n",
    "    y -- list of integers, labels corresponding to each image\n",
    "    label_dict\n",
    "    \"\"\"\n",
    "    X = [] # Empty list for storing flattened image vectors \n",
    "    y = [] # Empty list for storing interger labels (0 and 1)\n",
    "    \n",
    "    # Get class labels from folder names and map to integers\n",
    "    \n",
    "    labels = os.listdir(data_directory) # lists all the sub-folders of the specified root directory, that contain the images\n",
    "    label_dict = {label: i for i, label in enumerate(labels)}\n",
    "    \n",
    "    # Loop through each class folder and creates path for the mode\n",
    "    for label in labels:\n",
    "        folder = os.path.join(data_directory, label, mode)\n",
    "        if not os.path.isdir(folder):\n",
    "            continue  # Skip if train/test folder doesn't exist\n",
    "\n",
    "        Files = os.listdir(folder)\n",
    "        for filename in Files:\n",
    "            if filename.endswith(\".jpg\") or filename.endswith(\".png\"):\n",
    "                image_path = os.path.join(folder, filename)\n",
    "               # Open image and convert to RGB\n",
    "                img = Image.open(image_path).convert(\"RGB\")\n",
    "              # Resizes the loaded image into the size specified above (64x64 pixels)\n",
    "                img_resized = img.resize(image_size)\n",
    "              # Creates a numpy array from the resized image\n",
    "                X_array = np.array(img_resized)\n",
    "             # Flattens the array into a vector and appends it into X\n",
    "                X.append(X_array.flatten())\n",
    "             # Appends each class label into a list \"y\"\n",
    "                y.append(label_dict[label])\n",
    "\n",
    "    # Converts X into an array and normalizes all pixel values to [0,1]\n",
    "    X_norm = (np.array(X))/255.0\n",
    "    # Converts y labels into an array\n",
    "    y_array = np.array(y)\n",
    "    \n",
    "    return X_norm, y_array, label_dict\n",
    "    "
   ]
  },
  {
   "cell_type": "code",
   "execution_count": 59,
   "id": "75ff84bc-8a66-497d-bc38-f1cbb7a47901",
   "metadata": {},
   "outputs": [
    {
     "name": "stdout",
     "output_type": "stream",
     "text": [
      "Shape of X: (20, 12288)\n",
      "Shape of y: (20,)\n",
      "Label mapping: {'Dogs': 0, 'Cats': 1}\n"
     ]
    }
   ],
   "source": [
    "X, y, label_dict = loading_images(\"../Images\", \"train\", image_size=(64,64))\n",
    "\n",
    "print(\"Shape of X:\", X.shape)\n",
    "print(\"Shape of y:\", y.shape)\n",
    "print(\"Label mapping:\", label_dict)"
   ]
  },
  {
   "cell_type": "code",
   "execution_count": null,
   "id": "94a20572-6050-48b2-b672-c479843944e4",
   "metadata": {},
   "outputs": [],
   "source": []
  },
  {
   "cell_type": "code",
   "execution_count": null,
   "id": "14158791-786a-484b-8329-3743a8f56605",
   "metadata": {},
   "outputs": [],
   "source": []
  }
 ],
 "metadata": {
  "kernelspec": {
   "display_name": "Python 3 (ipykernel)",
   "language": "python",
   "name": "python3"
  },
  "language_info": {
   "codemirror_mode": {
    "name": "ipython",
    "version": 3
   },
   "file_extension": ".py",
   "mimetype": "text/x-python",
   "name": "python",
   "nbconvert_exporter": "python",
   "pygments_lexer": "ipython3",
   "version": "3.11.7"
  }
 },
 "nbformat": 4,
 "nbformat_minor": 5
}
