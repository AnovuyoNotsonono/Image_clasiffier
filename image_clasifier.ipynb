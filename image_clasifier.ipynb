{
 "cells": [
  {
   "cell_type": "code",
   "execution_count": 62,
   "id": "5c29e046-0018-4c24-b81c-9cccc7b0144e",
   "metadata": {},
   "outputs": [],
   "source": [
    "import os\n",
    "import numpy as np\n",
    "from PIL import Image\n",
    "\n",
    "# Parameters\n",
    "\n",
    "image_size = (64,64) # Resizes all the loaded images into a size of 64X64 pixels \n",
    "data_directory = \"Images\" # Specifies the root directory containing the image sub-folders (ie. \"Dogs\" and \"Cats\")\n",
    "\n",
    "def loading_images(data_directory,mode, image_size):\n",
    "\n",
    "    \"\"\"\n",
    "    Loads images from the specified directory, resizes them, flattens them into vectors,\n",
    "    and assigns labels based on folder names.\n",
    "\n",
    "    Assumes each class has a subfolder with 'train' images.\n",
    "\n",
    "    Arguments:\n",
    "    data_directory -- string, path to the root directory containing class folders\n",
    "    mode -- string, either 'train' or 'test' to specify which subfolder to load\n",
    "    image_size -- tuple(int, int), size to which each image will be resized (width, height)\n",
    "\n",
    "    Returns:\n",
    "    X -- list of numpy arrays, each array is a flattened image vector\n",
    "    y -- list of integers, labels corresponding to each image\n",
    "    label_dict-- dictionary mapping class names (folder names) to integer labels, e.g., {'Dogs': 0, 'Cats': 1}\n",
    "    \"\"\"\n",
    "    X = [] # Empty list for storing flattened image vectors \n",
    "    y = [] # Empty list for storing interger labels (0 and 1)\n",
    "    \n",
    "    # Get class labels from folder names and map to integers\n",
    "    \n",
    "    labels = os.listdir(data_directory) # lists all the sub-folders of the specified root directory, that contain the images\n",
    "    label_dict = {label: i for i, label in enumerate(labels)}\n",
    "    \n",
    "    # Loop through each class folder and creates path for the mode\n",
    "    for label in labels:\n",
    "        folder = os.path.join(data_directory, label, mode)\n",
    "        if not os.path.isdir(folder):\n",
    "            continue  # Skip if train/test folder doesn't exist\n",
    "\n",
    "        Files = os.listdir(folder)\n",
    "        for filename in Files:\n",
    "            if filename.endswith(\".jpg\") or filename.endswith(\".png\"):\n",
    "                image_path = os.path.join(folder, filename)\n",
    "               # Open image and convert to RGB\n",
    "                img = Image.open(image_path).convert(\"RGB\")\n",
    "              # Resizes the loaded image into the size specified above (64x64 pixels)\n",
    "                img_resized = img.resize(image_size)\n",
    "              # Creates a numpy array from the resized image\n",
    "                X_array = np.array(img_resized)\n",
    "             # Flattens the array into a vector and appends it into X\n",
    "                X.append(X_array.flatten())\n",
    "             # Appends each class label into a list \"y\"\n",
    "                y.append(label_dict[label])\n",
    "\n",
    "    # Converts X into an array and normalizes all pixel values to [0,1]\n",
    "    X_norm = (np.array(X))/255.0\n",
    "    # Converts y labels into an array\n",
    "    y_array = np.array(y)\n",
    "    \n",
    "    return X_norm, y_array, label_dict\n",
    "    "
   ]
  },
  {
   "cell_type": "code",
   "execution_count": 94,
   "id": "94a20572-6050-48b2-b672-c479843944e4",
   "metadata": {},
   "outputs": [],
   "source": [
    "\n",
    "# Assigning the outputs of the \"loading_images\" function to their respective variables\n",
    "X_train, y_train, label_dict = loading_images(\"../Images\", \"train\", image_size)\n",
    "X_test, y_test = loading_images(\"../Images\", \"test\", image_size)[:2]\n",
    "\n",
    "# Transpose for math: changing dimensions to (features, training_examples)\n",
    "X_train, X_test = X_train.T, X_test.T"
   ]
  },
  {
   "cell_type": "code",
   "execution_count": 107,
   "id": "cc56e2e2-6258-43de-b42c-f321e0a60ab3",
   "metadata": {},
   "outputs": [],
   "source": [
    "\n",
    "def parameter_init(input_size, hidden_size, output_size):\n",
    "    np.random.seed(1)\n",
    "    W1 = np.random.randn(hidden_size, input_size)*0.01\n",
    "    b1 = np.zeros(hidden_size, 1)\n",
    "    W2 = np.random.randn(output_size, hidden_size)*0.01\n",
    "    b2 = np.zeros(output_size,1)\n",
    "    parameters = {\"W1\": W1, \"b1\": b1, \"W2\": W2, \"b2\": b2}\n",
    "    return parameters"
   ]
  },
  {
   "cell_type": "raw",
   "id": "541b7257-0f09-4e0d-915d-265a9dc00882",
   "metadata": {},
   "source": [
    "parameter_init(20,10,5)"
   ]
  },
  {
   "cell_type": "code",
   "execution_count": null,
   "id": "c6d7f67a-0e85-4a22-a387-7d25d2829a85",
   "metadata": {},
   "outputs": [],
   "source": []
  }
 ],
 "metadata": {
  "kernelspec": {
   "display_name": "Python 3 (ipykernel)",
   "language": "python",
   "name": "python3"
  },
  "language_info": {
   "codemirror_mode": {
    "name": "ipython",
    "version": 3
   },
   "file_extension": ".py",
   "mimetype": "text/x-python",
   "name": "python",
   "nbconvert_exporter": "python",
   "pygments_lexer": "ipython3",
   "version": "3.11.7"
  }
 },
 "nbformat": 4,
 "nbformat_minor": 5
}
